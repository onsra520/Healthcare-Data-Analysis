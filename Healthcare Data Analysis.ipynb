{
 "cells": [
  {
   "cell_type": "code",
   "execution_count": 1,
   "metadata": {},
   "outputs": [],
   "source": [
    "import os, shutil, glob\n",
    "import numpy as np\n",
    "import pandas as pd\n",
    "import seaborn as sns\n",
    "import matplotlib.pyplot as plt\n",
    "import joblib\n",
    "from sklearn.model_selection import train_test_split\n",
    "from sklearn.preprocessing import StandardScaler\n",
    "from sklearn.metrics import confusion_matrix, accuracy_score\n",
    "from sklearn.ensemble import GradientBoostingClassifier, AdaBoostClassifier, StackingClassifier\n",
    "from sklearn.linear_model import LogisticRegression\n",
    "from sklearn.tree import DecisionTreeClassifier\n",
    "from sklearn.svm import SVC\n",
    "from sklearn.naive_bayes import GaussianNB"
   ]
  },
  {
   "cell_type": "code",
   "execution_count": 8,
   "metadata": {},
   "outputs": [],
   "source": [
    "df = pd.read_csv(os.path.join(os.getcwd(),\"Dataset For Model\",'Heart Disease Data.csv'), header = 0)\n",
    "df['Sex'] = df['Sex'].map({'Female':0, 'Male':1 })\n",
    "df['Chest Pain Type'] = df['Chest Pain Type'].map({'No Pain':0, 'Typical Angina':1, 'Atypical Angina':2, 'Non-Anginal Pain':3, 'Asymptomatic':3})\n",
    "df['Fasting Blood Sugar'] = df['Fasting Blood Sugar'].map({'< 120 mg/dl':0, '> 120 mg/dl':1})\n",
    "df['Resting Electrocardiographic Results'] = df['Resting Electrocardiographic Results'].map({'Normal':1, 'ST-T Change':2, 'Left Ventricular Hypertrophy':3})\n",
    "df['Exercise Induced Angina'] = df['Exercise Induced Angina'].map({'No Angina':0, 'Angina':1})\n",
    "df['The slope of the peak exercise ST segment'] = df['The slope of the peak exercise ST segment'].map({'Down Slope':0 ,'Flat Slope':1, 'Up Slope':2})\n",
    "df['Thallium Test Result'] = df['Thallium Test Result'].map({'Normal':3, 'Reversible Defect':2, 'Fixed Defect':1, 'Unknown':0})\n",
    "df['Thallium Test Result'] = df['Thallium Test Result'].fillna(df['Thallium Test Result'].mean())"
   ]
  },
  {
   "cell_type": "code",
   "execution_count": 10,
   "metadata": {},
   "outputs": [
    {
     "name": "stdout",
     "output_type": "stream",
     "text": [
      "Accuracy for training set for Stacking = 1.00\n",
      "Accuracy for test set for Stacking = 0.99\n"
     ]
    }
   ],
   "source": [
    "X = df.drop(columns=['Result']).values\n",
    "Y = df['Result'].values\n",
    "scaler = StandardScaler()\n",
    "X = scaler.fit_transform(X)\n",
    "X_train, X_test, Y_train, Y_test = train_test_split(X, Y, test_size=0.2, random_state=42)\n",
    "\n",
    "base_models = [\n",
    "    ('svm', SVC(kernel='rbf', probability=True, random_state=42)),\n",
    "    ('decision_tree', DecisionTreeClassifier(criterion='gini', max_depth=10, random_state=42)),\n",
    "    ('naive_bayes', GaussianNB()),\n",
    "    ('gradient_boost', GradientBoostingClassifier(n_estimators=100, learning_rate=0.1, random_state=42)),\n",
    "    ('adaboost', AdaBoostClassifier(n_estimators=50, learning_rate=1.0, algorithm='SAMME',random_state=42))\n",
    "]\n",
    "\n",
    "meta_model = LogisticRegression()\n",
    "stacking_model = StackingClassifier(estimators=base_models, final_estimator=meta_model, cv=5)\n",
    "stacking_model.fit(X_train, Y_train)\n",
    "\n",
    "Y_pred_train = stacking_model.predict(X_train)\n",
    "Y_pred_test = stacking_model.predict(X_test)\n",
    "cm_train = confusion_matrix(Y_train, Y_pred_train)\n",
    "cm_test = confusion_matrix(Y_test, Y_pred_test)\n",
    "accuracy_train = accuracy_score(Y_train, Y_pred_train)\n",
    "accuracy_test = accuracy_score(Y_test, Y_pred_test)\n",
    "\n",
    "print('Accuracy for training set for Stacking = {:.2f}'.format(accuracy_train))\n",
    "print('Accuracy for test set for Stacking = {:.2f}'.format(accuracy_test))\n"
   ]
  },
  {
   "cell_type": "code",
   "execution_count": 91,
   "metadata": {},
   "outputs": [],
   "source": []
  }
 ],
 "metadata": {
  "kernelspec": {
   "display_name": "python3",
   "language": "python",
   "name": "python3"
  },
  "language_info": {
   "codemirror_mode": {
    "name": "ipython",
    "version": 3
   },
   "file_extension": ".py",
   "mimetype": "text/x-python",
   "name": "python",
   "nbconvert_exporter": "python",
   "pygments_lexer": "ipython3",
   "version": "3.10.14"
  }
 },
 "nbformat": 4,
 "nbformat_minor": 2
}
